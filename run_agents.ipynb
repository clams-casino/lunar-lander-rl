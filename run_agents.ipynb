{
 "cells": [
  {
   "cell_type": "code",
   "execution_count": 7,
   "id": "fossil-diving",
   "metadata": {},
   "outputs": [],
   "source": [
    "import matplotlib.pyplot as plt\n",
    "%matplotlib inline\n",
    "from IPython import display"
   ]
  },
  {
   "cell_type": "code",
   "execution_count": 8,
   "id": "comprehensive-assurance",
   "metadata": {},
   "outputs": [],
   "source": [
    "def train_and_evaluate(agent, use_pretrained=True, save_weights=False):\n",
    "    \"\"\"\n",
    "    Train and evaluate agent.\n",
    "    \"\"\"\n",
    "    import numpy as np\n",
    "    from environment.lunar_lander import LunarLander\n",
    "\n",
    "    env = LunarLander()\n",
    "    agent.set_env(env)\n",
    "\n",
    "    if use_pretrained:\n",
    "        agent.load_model()\n",
    "    else:\n",
    "        agent.train()\n",
    "        if save_weights:\n",
    "            agent.save_model()\n",
    "\n",
    "    episode_length = 300\n",
    "    n_eval = 6\n",
    "    returns = []\n",
    "    print(\"Evaluating agent over {} episodes\".format(n_eval))\n",
    "\n",
    "    # For rendering\n",
    "    img = plt.imshow(env.render(mode='rgb_array'))\n",
    "    \n",
    "    for i in range(n_eval):\n",
    "        state = env.reset()\n",
    "        cumulative_return = 0\n",
    "        # The environment will set terminal to True if an episode is done.\n",
    "        terminal = False\n",
    "        env.reset()\n",
    "        for t in range(episode_length):\n",
    "            # For rendering\n",
    "            img.set_data(env.render(mode='rgb_array'))\n",
    "            display.display(plt.gcf())\n",
    "            display.clear_output(wait=True)\n",
    "            \n",
    "            # Taking an action in the environment\n",
    "            action = agent.get_action(state)\n",
    "            state, reward, terminal = env.transition(action)\n",
    "            cumulative_return += reward\n",
    "            if terminal:\n",
    "                break\n",
    "        returns.append(cumulative_return)\n",
    "        \n",
    "    env.close()\n",
    "    print(\"Average return of {:.2f} over {} evaluation episodes\".format(np.mean(returns), n_eval))"
   ]
  },
  {
   "cell_type": "code",
   "execution_count": 10,
   "id": "trying-central",
   "metadata": {},
   "outputs": [],
   "source": [
    "from agents.policy_gradient import PolicyGradientAgent\n",
    "from agents.q_learning import QLearningAgent"
   ]
  },
  {
   "cell_type": "code",
   "execution_count": 13,
   "id": "resistant-papua",
   "metadata": {},
   "outputs": [
    {
     "name": "stdout",
     "output_type": "stream",
     "text": [
      "Average return of 243.63 over 6 evaluation episodes\n"
     ]
    },
    {
     "data": {
      "image/png": "[encoded data removed]",
      "text/plain": [
       "<Figure size 432x288 with 1 Axes>"
      ]
     },
     "metadata": {
      "needs_background": "light"
     },
     "output_type": "display_data"
    }
   ],
   "source": [
    "policy_gradient_agent = PolicyGradientAgent()\n",
    "train_and_evaluate(policy_gradient_agent, use_pretrained=True, save_weights=False)"
   ]
  },
  {
   "cell_type": "code",
   "execution_count": 12,
   "id": "velvet-jaguar",
   "metadata": {},
   "outputs": [
    {
     "name": "stdout",
     "output_type": "stream",
     "text": [
      "Average return of 243.61 over 6 evaluation episodes\n"
     ]
    },
    {
     "data": {
      "image/png": "[encoded data removed]",
      "text/plain": [
       "<Figure size 432x288 with 1 Axes>"
      ]
     },
     "metadata": {
      "needs_background": "light"
     },
     "output_type": "display_data"
    }
   ],
   "source": [
    "q_learning_agent = QLearningAgent()\n",
    "train_and_evaluate(q_learning_agent, use_pretrained=True, save_weights=False)"
   ]
  }
 ],
 "metadata": {
  "kernelspec": {
   "display_name": "Python 3",
   "language": "python",
   "name": "python3"
  },
  "language_info": {
   "codemirror_mode": {
    "name": "ipython",
    "version": 3
   },
   "file_extension": ".py",
   "mimetype": "text/x-python",
   "name": "python",
   "nbconvert_exporter": "python",
   "pygments_lexer": "ipython3",
   "version": "3.8.5"
  }
 },
 "nbformat": 4,
 "nbformat_minor": 5
}
